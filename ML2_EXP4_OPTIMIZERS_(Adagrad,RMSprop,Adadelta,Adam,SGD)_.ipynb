{
  "nbformat": 4,
  "nbformat_minor": 0,
  "metadata": {
    "colab": {
      "provenance": []
    },
    "kernelspec": {
      "name": "python3",
      "display_name": "Python 3"
    },
    "language_info": {
      "name": "python"
    }
  },
  "cells": [
    {
      "cell_type": "code",
      "execution_count": null,
      "metadata": {
        "id": "5Hora1b1wjSv",
        "colab": {
          "base_uri": "https://localhost:8080/"
        },
        "outputId": "845338b4-54e7-4fee-bd55-403bbb99c137"
      },
      "outputs": [
        {
          "output_type": "stream",
          "name": "stdout",
          "text": [
            "Downloading data from https://storage.googleapis.com/tensorflow/tf-keras-datasets/mnist.npz\n",
            "\u001b[1m11490434/11490434\u001b[0m \u001b[32m━━━━━━━━━━━━━━━━━━━━\u001b[0m\u001b[37m\u001b[0m \u001b[1m0s\u001b[0m 0us/step\n"
          ]
        }
      ],
      "source": [
        "import numpy as np\n",
        "import tensorflow as tf\n",
        "from tensorflow.keras.datasets import mnist\n",
        "from tensorflow.keras.utils import to_categorical\n",
        "\n",
        "# Load the MNIST dataset\n",
        "(x_train, y_train), (x_test, y_test) = mnist.load_data()\n",
        "\n",
        "# Preprocess the data\n",
        "x_train = x_train.reshape((x_train.shape[0], 28, 28, 1)).astype('float32') / 255\n",
        "x_test = x_test.reshape((x_test.shape[0], 28, 28, 1)).astype('float32') / 255\n",
        "y_train = to_categorical(y_train, 10)\n",
        "y_test = to_categorical(y_test, 10)\n"
      ]
    },
    {
      "cell_type": "code",
      "source": [
        "from tensorflow.keras.models import Sequential\n",
        "from tensorflow.keras.layers import Dense, Flatten\n",
        "\n",
        "def create_model():\n",
        "    model = Sequential([\n",
        "        Flatten(input_shape=(28, 28, 1)),\n",
        "        Dense(128, activation='relu'),\n",
        "        Dense(10, activation='softmax')\n",
        "    ])\n",
        "    return model\n"
      ],
      "metadata": {
        "id": "pYIn_O-fxVSk"
      },
      "execution_count": null,
      "outputs": []
    },
    {
      "cell_type": "code",
      "source": [
        "from tensorflow.keras.optimizers import SGD, Adam, Adagrad, RMSprop, Adadelta\n"
      ],
      "metadata": {
        "id": "Xfym5JGhxXu7"
      },
      "execution_count": null,
      "outputs": []
    },
    {
      "cell_type": "code",
      "source": [
        "import numpy as np\n",
        "import tensorflow as tf\n",
        "from tensorflow.keras.datasets import mnist\n",
        "from tensorflow.keras.utils import to_categorical\n",
        "from tensorflow.keras.models import Sequential\n",
        "from tensorflow.keras.layers import Dense, Flatten\n",
        "from tensorflow.keras.optimizers import SGD, Adam, Adagrad, RMSprop, Adadelta\n",
        "from tensorflow.keras.metrics import CategoricalAccuracy\n",
        "from tensorflow.keras.losses import categorical_crossentropy\n"
      ],
      "metadata": {
        "id": "5O-7Tg4XxZqb"
      },
      "execution_count": null,
      "outputs": []
    },
    {
      "cell_type": "code",
      "source": [
        "def create_model():\n",
        "    model = Sequential([\n",
        "        Flatten(input_shape=(28, 28, 1)),\n",
        "        Dense(128, activation='relu'),\n",
        "        Dense(10, activation='softmax')\n",
        "    ])\n",
        "    return model\n"
      ],
      "metadata": {
        "id": "DnWnktiyxbdb"
      },
      "execution_count": null,
      "outputs": []
    },
    {
      "cell_type": "code",
      "source": [
        "# Parameters\n",
        "batch_size = 32\n",
        "epochs = 5\n",
        "\n",
        "# List of optimizers\n",
        "optimizers = {\n",
        "    'SGD': SGD(),\n",
        "    'SGD with Momentum': SGD(momentum=0.9),\n",
        "    'Adagrad': Adagrad(),\n",
        "    'RMSprop': RMSprop(),\n",
        "    'Adadelta': Adadelta(),\n",
        "    'Adam': Adam(),\n",
        "    'Mini-batch Gradient Descent': SGD(learning_rate=0.01),  # Mini-batch is just SGD with batch size\n",
        "    'Stochastic Gradient Descent': SGD(learning_rate=0.01)  # Similar to SGD\n",
        "}\n",
        "\n",
        "# Train and evaluate models with different optimizers\n",
        "results = {}\n",
        "\n",
        "for opt_name, optimizer in optimizers.items():\n",
        "    print(f\"Training with {opt_name}...\")\n",
        "\n",
        "    model = create_model()\n",
        "    model.compile(optimizer=optimizer, loss=categorical_crossentropy, metrics=[CategoricalAccuracy()])\n",
        "\n",
        "    history = model.fit(x_train, y_train, validation_data=(x_test, y_test), epochs=epochs, batch_size=batch_size, verbose=0)\n",
        "\n",
        "    # Evaluate the model\n",
        "    test_loss, test_accuracy = model.evaluate(x_test, y_test, verbose=0)\n",
        "    results[opt_name] = test_accuracy\n",
        "\n",
        "# Print results\n",
        "for opt_name, accuracy in results.items():\n",
        "    print(f\"{opt_name}: Test Accuracy = {accuracy:.4f}\")\n"
      ],
      "metadata": {
        "colab": {
          "base_uri": "https://localhost:8080/"
        },
        "id": "eDeHUrePxc7V",
        "outputId": "92157b78-c1e6-4e08-9d03-a6c9fa857e17"
      },
      "execution_count": null,
      "outputs": [
        {
          "output_type": "stream",
          "name": "stdout",
          "text": [
            "Training with SGD...\n"
          ]
        },
        {
          "output_type": "stream",
          "name": "stderr",
          "text": [
            "/usr/local/lib/python3.10/dist-packages/keras/src/layers/reshaping/flatten.py:37: UserWarning: Do not pass an `input_shape`/`input_dim` argument to a layer. When using Sequential models, prefer using an `Input(shape)` object as the first layer in the model instead.\n",
            "  super().__init__(**kwargs)\n"
          ]
        },
        {
          "output_type": "stream",
          "name": "stdout",
          "text": [
            "Training with SGD with Momentum...\n",
            "Training with Adagrad...\n",
            "Training with RMSprop...\n",
            "Training with Adadelta...\n",
            "Training with Adam...\n",
            "Training with Mini-batch Gradient Descent...\n",
            "Training with Stochastic Gradient Descent...\n",
            "SGD: Test Accuracy = 0.9372\n",
            "SGD with Momentum: Test Accuracy = 0.9762\n",
            "Adagrad: Test Accuracy = 0.9046\n",
            "RMSprop: Test Accuracy = 0.9757\n",
            "Adadelta: Test Accuracy = 0.6188\n",
            "Adam: Test Accuracy = 0.9737\n",
            "Mini-batch Gradient Descent: Test Accuracy = 0.9379\n",
            "Stochastic Gradient Descent: Test Accuracy = 0.9384\n"
          ]
        }
      ]
    },
    {
      "cell_type": "markdown",
      "source": [
        "#Advantages :\n",
        "Gradient Descent (GD)\n",
        "Pros: Straightforward and easy to implement.\n",
        "Cons: Converges slowly; prone to getting trapped in local minima; often necessitates manual adjustment of the learning rate.\n",
        "\n",
        "Stochastic Gradient Descent (SGD)\n",
        "Pros: Converges faster than GD; capable of avoiding local minima.\n",
        "Cons: The updates have high variance, which can cause noisy convergence.\n",
        "\n",
        "SGD with Momentum\n",
        "Pros: Speeds up SGD in the correct direction and reduces oscillations.\n",
        "Cons: Requires tuning of both the learning rate and momentum, which can be challenging.\n",
        "\n",
        "Mini-Batch Gradient Descent\n",
        "Pros: Offers a good compromise between speed and stability; reduces the computational cost per update.\n",
        "Cons: Still demands careful tuning of the batch size and learning rate.\n",
        "\n",
        "Adagrad\n",
        "Pros: Adapts learning rates for individual parameters; effective for sparse data.\n",
        "Cons: The learning rate may decrease too quickly, hampering convergence.\n",
        "\n",
        "RMSprop\n",
        "Pros: Addresses Adagrad’s issue of rapidly decreasing learning rates; performs well with non-stationary objectives.\n",
        "Cons: Selecting appropriate hyperparameters (e.g., decay rate) can be complex.\n",
        "\n",
        "Adadelta\n",
        "Pros: Enhances Adagrad by preventing the learning rate from dropping too aggressively, leading to better convergence.\n",
        "Cons: Requires careful parameter tuning; may be sensitive to hyperparameters.\n",
        "\n",
        "Adam\n",
        "Pros: Merges the advantages of Adagrad and RMSprop; generally effective with minimal hyperparameter adjustment.\n",
        "Cons: May converge to suboptimal solutions; sometimes sensitive to learning rate settings.\n",
        "\n",
        "\n",
        "\n",
        "\n",
        "\n",
        "\n"
      ],
      "metadata": {
        "id": "T-mH60iByoNP"
      }
    },
    {
      "cell_type": "code",
      "source": [],
      "metadata": {
        "id": "qcFPGHO4ynug"
      },
      "execution_count": null,
      "outputs": []
    }
  ]
}