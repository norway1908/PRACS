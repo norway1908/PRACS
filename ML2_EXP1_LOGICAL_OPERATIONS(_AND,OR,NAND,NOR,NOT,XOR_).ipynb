{
  "nbformat": 4,
  "nbformat_minor": 0,
  "metadata": {
    "colab": {
      "provenance": []
    },
    "kernelspec": {
      "name": "python3",
      "display_name": "Python 3"
    },
    "language_info": {
      "name": "python"
    }
  },
  "cells": [
    {
      "cell_type": "code",
      "execution_count": null,
      "metadata": {
        "colab": {
          "base_uri": "https://localhost:8080/"
        },
        "id": "nVXRrvx6s9XO",
        "outputId": "5848cc17-4c5a-48a7-d962-b315f50ae049"
      },
      "outputs": [
        {
          "output_type": "stream",
          "name": "stdout",
          "text": [
            "AND Gate:\n",
            "Input: [0 1], Output: 0\n",
            "Input: [1 1], Output: 1\n",
            "Input: [0 0], Output: 0\n",
            "Input: [1 0], Output: 0\n",
            "OR Gate:\n",
            "Input: [0 1], Output: 1\n",
            "Input: [1 1], Output: 1\n",
            "Input: [0 0], Output: 0\n",
            "Input: [1 0], Output: 1\n",
            "NAND Gate:\n",
            "Input: [0 1], Output: 1\n",
            "Input: [1 1], Output: 0\n",
            "Input: [0 0], Output: 1\n",
            "Input: [1 0], Output: 1\n",
            "NOR Gate:\n",
            "Input: [0 1], Output: 0\n",
            "Input: [1 1], Output: 0\n",
            "Input: [0 0], Output: 1\n",
            "Input: [1 0], Output: 0\n",
            "NOT Gate:\n",
            "Input: 0, Output: 1\n",
            "Input: 1, Output: 0\n",
            "XOR Gate:\n",
            "Input: [0 1], Output: 1\n",
            "Input: [1 1], Output: 0\n",
            "Input: [0 0], Output: 0\n",
            "Input: [1 0], Output: 1\n"
          ]
        }
      ],
      "source": [
        "#EXP1 - LOGICAL OPERATIONS( AND,OR,NAND,NOR,NOT,XOR )\n",
        "import numpy as np\n",
        "\n",
        "def unitStep(v):\n",
        "    return 1 if v >= 0 else 0\n",
        "\n",
        "def perceptronModel(x, w, b):\n",
        "    v = np.dot(w, x) + b\n",
        "    y = unitStep(v)\n",
        "    return y\n",
        "\n",
        "def AND_logicFunction(x):\n",
        "    w = np.array([1, 1])\n",
        "    b = -1.5\n",
        "    return perceptronModel(x, w, b)\n",
        "\n",
        "def OR_logicFunction(x):\n",
        "    w = np.array([1, 1])\n",
        "    b = -0.5\n",
        "    return perceptronModel(x, w, b)\n",
        "\n",
        "def NAND_logicFunction(x):\n",
        "    w = np.array([-1, -1])\n",
        "    b = 1.5\n",
        "    return perceptronModel(x, w, b)\n",
        "\n",
        "def NOR_logicFunction(x):\n",
        "    w = np.array([-1, -1])\n",
        "    b = 0.5\n",
        "    return perceptronModel(x, w, b)\n",
        "\n",
        "def NOT_logicFunction(x):\n",
        "    w = np.array([-2])\n",
        "    b = 1\n",
        "    return perceptronModel(x, w, b)\n",
        "\n",
        "def XOR_logicFunction(x):\n",
        "    not_x1 = NOT_logicFunction([x[0]])\n",
        "    not_x2 = NOT_logicFunction([x[1]])\n",
        "    and1 = AND_logicFunction([not_x1, x[1]])\n",
        "    and2 = AND_logicFunction([x[0], not_x2])\n",
        "    return OR_logicFunction([and1, and2])\n",
        "\n",
        "test_cases = [np.array([0, 1]), np.array([1, 1]), np.array([0, 0]), np.array([1, 0])]\n",
        "\n",
        "print(\"AND Gate:\")\n",
        "for x in test_cases:\n",
        "    print(f\"Input: {x}, Output: {AND_logicFunction(x)}\")\n",
        "\n",
        "print(\"OR Gate:\")\n",
        "for x in test_cases:\n",
        "    print(f\"Input: {x}, Output: {OR_logicFunction(x)}\")\n",
        "\n",
        "print(\"NAND Gate:\")\n",
        "for x in test_cases:\n",
        "    print(f\"Input: {x}, Output: {NAND_logicFunction(x)}\")\n",
        "\n",
        "print(\"NOR Gate:\")\n",
        "for x in test_cases:\n",
        "    print(f\"Input: {x}, Output: {NOR_logicFunction(x)}\")\n",
        "\n",
        "print(\"NOT Gate:\")\n",
        "for x in [0, 1]:\n",
        "    print(f\"Input: {x}, Output: {NOT_logicFunction([x])}\")\n",
        "\n",
        "print(\"XOR Gate:\")\n",
        "for x in test_cases:\n",
        "    print(f\"Input: {x}, Output: {XOR_logicFunction(x)}\")\n"
      ]
    }
  ]
}